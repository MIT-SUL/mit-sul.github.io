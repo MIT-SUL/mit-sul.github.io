{
 "cells": [
  {
   "cell_type": "markdown",
   "metadata": {},
   "source": [
    "# First chart data processing"
   ]
  },
  {
   "cell_type": "code",
   "execution_count": 1,
   "metadata": {
    "ExecuteTime": {
     "end_time": "2022-03-07T14:27:19.792272Z",
     "start_time": "2022-03-07T14:27:18.040330Z"
    }
   },
   "outputs": [],
   "source": [
    "import pandas as pd\n",
    "import numpy as np"
   ]
  },
  {
   "cell_type": "code",
   "execution_count": 2,
   "metadata": {
    "ExecuteTime": {
     "end_time": "2022-03-07T14:27:19.811640Z",
     "start_time": "2022-03-07T14:27:19.806135Z"
    }
   },
   "outputs": [],
   "source": [
    "csv = pd.read_csv('../data/GlobalSentiment_Data.csv', index_col = 0)"
   ]
  },
  {
   "cell_type": "code",
   "execution_count": 3,
   "metadata": {
    "ExecuteTime": {
     "end_time": "2022-03-07T14:27:20.945887Z",
     "start_time": "2022-03-07T14:27:20.943510Z"
    }
   },
   "outputs": [],
   "source": [
    "dictionary = {}"
   ]
  },
  {
   "cell_type": "code",
   "execution_count": 6,
   "metadata": {
    "ExecuteTime": {
     "end_time": "2022-03-07T14:28:23.595398Z",
     "start_time": "2022-03-07T14:28:23.591574Z"
    }
   },
   "outputs": [],
   "source": [
    "for index, countries in csv.groupby('iso3'):\n",
    "    if countries.shape[0] is not 152:\n",
    "        display(index)"
   ]
  },
  {
   "cell_type": "code",
   "execution_count": 5,
   "metadata": {
    "ExecuteTime": {
     "end_time": "2021-10-12T19:02:07.367071Z",
     "start_time": "2021-10-12T19:02:07.338744Z"
    }
   },
   "outputs": [
    {
     "data": {
      "text/html": [
       "<div>\n",
       "<style scoped>\n",
       "    .dataframe tbody tr th:only-of-type {\n",
       "        vertical-align: middle;\n",
       "    }\n",
       "\n",
       "    .dataframe tbody tr th {\n",
       "        vertical-align: top;\n",
       "    }\n",
       "\n",
       "    .dataframe thead th {\n",
       "        text-align: right;\n",
       "    }\n",
       "</style>\n",
       "<table border=\"1\" class=\"dataframe\">\n",
       "  <thead>\n",
       "    <tr style=\"text-align: right;\">\n",
       "      <th></th>\n",
       "      <th>iso3</th>\n",
       "      <th>date</th>\n",
       "      <th>senti_bert_std</th>\n",
       "      <th>senti_bert_std_trend</th>\n",
       "      <th>transit</th>\n",
       "      <th>drop_senti_bert</th>\n",
       "      <th>min_senti_bert_std</th>\n",
       "      <th>death</th>\n",
       "      <th>recovered</th>\n",
       "      <th>confirmed</th>\n",
       "    </tr>\n",
       "  </thead>\n",
       "  <tbody>\n",
       "    <tr>\n",
       "      <th>20217</th>\n",
       "      <td>USA</td>\n",
       "      <td>2020-01-01</td>\n",
       "      <td>4.324215</td>\n",
       "      <td>1.336594</td>\n",
       "      <td>NaN</td>\n",
       "      <td>2020-03-05</td>\n",
       "      <td>2020-03-14</td>\n",
       "      <td>NaN</td>\n",
       "      <td>NaN</td>\n",
       "      <td>NaN</td>\n",
       "    </tr>\n",
       "    <tr>\n",
       "      <th>20218</th>\n",
       "      <td>USA</td>\n",
       "      <td>2020-01-02</td>\n",
       "      <td>0.168652</td>\n",
       "      <td>0.903590</td>\n",
       "      <td>NaN</td>\n",
       "      <td>2020-03-05</td>\n",
       "      <td>2020-03-14</td>\n",
       "      <td>NaN</td>\n",
       "      <td>NaN</td>\n",
       "      <td>NaN</td>\n",
       "    </tr>\n",
       "    <tr>\n",
       "      <th>20219</th>\n",
       "      <td>USA</td>\n",
       "      <td>2020-01-03</td>\n",
       "      <td>-1.049207</td>\n",
       "      <td>0.490647</td>\n",
       "      <td>NaN</td>\n",
       "      <td>2020-03-05</td>\n",
       "      <td>2020-03-14</td>\n",
       "      <td>NaN</td>\n",
       "      <td>NaN</td>\n",
       "      <td>NaN</td>\n",
       "    </tr>\n",
       "    <tr>\n",
       "      <th>20220</th>\n",
       "      <td>USA</td>\n",
       "      <td>2020-01-04</td>\n",
       "      <td>0.065922</td>\n",
       "      <td>0.088097</td>\n",
       "      <td>NaN</td>\n",
       "      <td>2020-03-05</td>\n",
       "      <td>2020-03-14</td>\n",
       "      <td>NaN</td>\n",
       "      <td>NaN</td>\n",
       "      <td>NaN</td>\n",
       "    </tr>\n",
       "    <tr>\n",
       "      <th>20221</th>\n",
       "      <td>USA</td>\n",
       "      <td>2020-01-05</td>\n",
       "      <td>-1.335513</td>\n",
       "      <td>-0.302358</td>\n",
       "      <td>NaN</td>\n",
       "      <td>2020-03-05</td>\n",
       "      <td>2020-03-14</td>\n",
       "      <td>NaN</td>\n",
       "      <td>NaN</td>\n",
       "      <td>NaN</td>\n",
       "    </tr>\n",
       "    <tr>\n",
       "      <th>...</th>\n",
       "      <td>...</td>\n",
       "      <td>...</td>\n",
       "      <td>...</td>\n",
       "      <td>...</td>\n",
       "      <td>...</td>\n",
       "      <td>...</td>\n",
       "      <td>...</td>\n",
       "      <td>...</td>\n",
       "      <td>...</td>\n",
       "      <td>...</td>\n",
       "    </tr>\n",
       "    <tr>\n",
       "      <th>20364</th>\n",
       "      <td>USA</td>\n",
       "      <td>2020-05-27</td>\n",
       "      <td>-0.703816</td>\n",
       "      <td>-0.759332</td>\n",
       "      <td>-12.605714</td>\n",
       "      <td>2020-03-05</td>\n",
       "      <td>2020-03-14</td>\n",
       "      <td>NaN</td>\n",
       "      <td>NaN</td>\n",
       "      <td>NaN</td>\n",
       "    </tr>\n",
       "    <tr>\n",
       "      <th>20365</th>\n",
       "      <td>USA</td>\n",
       "      <td>2020-05-28</td>\n",
       "      <td>-1.378175</td>\n",
       "      <td>-1.153662</td>\n",
       "      <td>-12.216936</td>\n",
       "      <td>2020-03-05</td>\n",
       "      <td>2020-03-14</td>\n",
       "      <td>NaN</td>\n",
       "      <td>NaN</td>\n",
       "      <td>NaN</td>\n",
       "    </tr>\n",
       "    <tr>\n",
       "      <th>20366</th>\n",
       "      <td>USA</td>\n",
       "      <td>2020-05-29</td>\n",
       "      <td>-1.440015</td>\n",
       "      <td>-1.553201</td>\n",
       "      <td>-11.385047</td>\n",
       "      <td>2020-03-05</td>\n",
       "      <td>2020-03-14</td>\n",
       "      <td>NaN</td>\n",
       "      <td>NaN</td>\n",
       "      <td>NaN</td>\n",
       "    </tr>\n",
       "    <tr>\n",
       "      <th>20367</th>\n",
       "      <td>USA</td>\n",
       "      <td>2020-05-30</td>\n",
       "      <td>-1.103954</td>\n",
       "      <td>-1.956014</td>\n",
       "      <td>-5.860681</td>\n",
       "      <td>2020-03-05</td>\n",
       "      <td>2020-03-14</td>\n",
       "      <td>NaN</td>\n",
       "      <td>NaN</td>\n",
       "      <td>NaN</td>\n",
       "    </tr>\n",
       "    <tr>\n",
       "      <th>20368</th>\n",
       "      <td>USA</td>\n",
       "      <td>2020-05-31</td>\n",
       "      <td>-2.476721</td>\n",
       "      <td>-2.361282</td>\n",
       "      <td>-6.844253</td>\n",
       "      <td>2020-03-05</td>\n",
       "      <td>2020-03-14</td>\n",
       "      <td>NaN</td>\n",
       "      <td>NaN</td>\n",
       "      <td>NaN</td>\n",
       "    </tr>\n",
       "  </tbody>\n",
       "</table>\n",
       "<p>152 rows × 10 columns</p>\n",
       "</div>"
      ],
      "text/plain": [
       "      iso3        date  senti_bert_std  senti_bert_std_trend    transit  \\\n",
       "20217  USA  2020-01-01        4.324215              1.336594        NaN   \n",
       "20218  USA  2020-01-02        0.168652              0.903590        NaN   \n",
       "20219  USA  2020-01-03       -1.049207              0.490647        NaN   \n",
       "20220  USA  2020-01-04        0.065922              0.088097        NaN   \n",
       "20221  USA  2020-01-05       -1.335513             -0.302358        NaN   \n",
       "...    ...         ...             ...                   ...        ...   \n",
       "20364  USA  2020-05-27       -0.703816             -0.759332 -12.605714   \n",
       "20365  USA  2020-05-28       -1.378175             -1.153662 -12.216936   \n",
       "20366  USA  2020-05-29       -1.440015             -1.553201 -11.385047   \n",
       "20367  USA  2020-05-30       -1.103954             -1.956014  -5.860681   \n",
       "20368  USA  2020-05-31       -2.476721             -2.361282  -6.844253   \n",
       "\n",
       "      drop_senti_bert min_senti_bert_std  death  recovered  confirmed  \n",
       "20217      2020-03-05         2020-03-14    NaN        NaN        NaN  \n",
       "20218      2020-03-05         2020-03-14    NaN        NaN        NaN  \n",
       "20219      2020-03-05         2020-03-14    NaN        NaN        NaN  \n",
       "20220      2020-03-05         2020-03-14    NaN        NaN        NaN  \n",
       "20221      2020-03-05         2020-03-14    NaN        NaN        NaN  \n",
       "...               ...                ...    ...        ...        ...  \n",
       "20364      2020-03-05         2020-03-14    NaN        NaN        NaN  \n",
       "20365      2020-03-05         2020-03-14    NaN        NaN        NaN  \n",
       "20366      2020-03-05         2020-03-14    NaN        NaN        NaN  \n",
       "20367      2020-03-05         2020-03-14    NaN        NaN        NaN  \n",
       "20368      2020-03-05         2020-03-14    NaN        NaN        NaN  \n",
       "\n",
       "[152 rows x 10 columns]"
      ]
     },
     "execution_count": 5,
     "metadata": {},
     "output_type": "execute_result"
    }
   ],
   "source": [
    "csv[csv['iso3'] == 'USA']"
   ]
  },
  {
   "cell_type": "code",
   "execution_count": 7,
   "metadata": {
    "ExecuteTime": {
     "end_time": "2021-10-12T19:02:08.469384Z",
     "start_time": "2021-10-12T19:02:08.417029Z"
    }
   },
   "outputs": [],
   "source": [
    "# fix usa\n",
    "\n",
    "confirmed_global_cases = pd.read_csv(\"../data/time_series_covid19_confirmed_global.csv\")"
   ]
  },
  {
   "cell_type": "code",
   "execution_count": 8,
   "metadata": {
    "ExecuteTime": {
     "end_time": "2021-10-12T19:02:08.773975Z",
     "start_time": "2021-10-12T19:02:08.768670Z"
    }
   },
   "outputs": [],
   "source": [
    "us_cases = confirmed_global_cases[confirmed_global_cases['Country/Region'] == 'US'].drop(['Lat', 'Long','Country/Region','Province/State'], axis = 1).T.reset_index()"
   ]
  },
  {
   "cell_type": "code",
   "execution_count": 9,
   "metadata": {
    "ExecuteTime": {
     "end_time": "2021-10-12T19:02:09.179730Z",
     "start_time": "2021-10-12T19:02:09.176918Z"
    }
   },
   "outputs": [],
   "source": [
    "us_cases.columns = ['date', 'cases']"
   ]
  },
  {
   "cell_type": "code",
   "execution_count": 10,
   "metadata": {
    "ExecuteTime": {
     "end_time": "2021-10-12T19:02:09.608359Z",
     "start_time": "2021-10-12T19:02:09.560620Z"
    }
   },
   "outputs": [],
   "source": [
    "us_cases['date'] = pd.to_datetime(us_cases['date'])\n"
   ]
  },
  {
   "cell_type": "code",
   "execution_count": 30,
   "metadata": {
    "ExecuteTime": {
     "end_time": "2021-10-12T19:22:42.115023Z",
     "start_time": "2021-10-12T19:22:42.106403Z"
    }
   },
   "outputs": [
    {
     "name": "stderr",
     "output_type": "stream",
     "text": [
      "/Library/Frameworks/Python.framework/Versions/3.7/lib/python3.7/site-packages/ipykernel_launcher.py:2: SettingWithCopyWarning: \n",
      "A value is trying to be set on a copy of a slice from a DataFrame.\n",
      "Try using .loc[row_indexer,col_indexer] = value instead\n",
      "\n",
      "See the caveats in the documentation: https://pandas.pydata.org/pandas-docs/stable/user_guide/indexing.html#returning-a-view-versus-a-copy\n",
      "  \n"
     ]
    }
   ],
   "source": [
    "new_df = csv.loc[(csv.iso3 == 'USA')]\n",
    "new_df['date'] = pd.to_datetime(new_df['date'])"
   ]
  },
  {
   "cell_type": "code",
   "execution_count": 31,
   "metadata": {
    "ExecuteTime": {
     "end_time": "2021-10-12T19:22:42.845963Z",
     "start_time": "2021-10-12T19:22:42.842602Z"
    }
   },
   "outputs": [],
   "source": [
    "new_us_cases = (us_cases['cases']-us_cases.shift(1)['cases'].fillna(0))"
   ]
  },
  {
   "cell_type": "code",
   "execution_count": 32,
   "metadata": {
    "ExecuteTime": {
     "end_time": "2021-10-12T19:22:43.222745Z",
     "start_time": "2021-10-12T19:22:43.218436Z"
    }
   },
   "outputs": [
    {
     "data": {
      "text/plain": [
       "0           1.0\n",
       "1           0.0\n",
       "2           1.0\n",
       "3           0.0\n",
       "4           3.0\n",
       "         ...   \n",
       "624    100083.0\n",
       "625    131142.0\n",
       "626     27501.0\n",
       "627     22194.0\n",
       "628    116202.0\n",
       "Name: cases, Length: 629, dtype: float64"
      ]
     },
     "execution_count": 32,
     "metadata": {},
     "output_type": "execute_result"
    }
   ],
   "source": [
    "new_us_cases"
   ]
  },
  {
   "cell_type": "code",
   "execution_count": 43,
   "metadata": {
    "ExecuteTime": {
     "end_time": "2021-10-12T19:24:17.521950Z",
     "start_time": "2021-10-12T19:24:17.514998Z"
    }
   },
   "outputs": [],
   "source": [
    "_new_df = new_df.join(us_cases.set_index('date'), on='date', how=\"left\")\n",
    "_new_df.reset_index(inplace = True)\n",
    "_new_df['confirmed'] = new_us_cases"
   ]
  },
  {
   "cell_type": "code",
   "execution_count": 49,
   "metadata": {
    "ExecuteTime": {
     "end_time": "2021-10-12T19:25:05.393840Z",
     "start_time": "2021-10-12T19:25:05.389570Z"
    }
   },
   "outputs": [],
   "source": [
    "_new_df.set_index('index', inplace = True)"
   ]
  },
  {
   "cell_type": "code",
   "execution_count": 50,
   "metadata": {
    "ExecuteTime": {
     "end_time": "2021-10-12T19:25:08.377591Z",
     "start_time": "2021-10-12T19:25:08.372935Z"
    }
   },
   "outputs": [
    {
     "data": {
      "text/plain": [
       "index\n",
       "20217        1.0\n",
       "20218        0.0\n",
       "20219        1.0\n",
       "20220        0.0\n",
       "20221        3.0\n",
       "          ...   \n",
       "20364    27215.0\n",
       "20365    28401.0\n",
       "20366    31685.0\n",
       "20367    32534.0\n",
       "20368    26067.0\n",
       "Name: confirmed, Length: 152, dtype: float64"
      ]
     },
     "execution_count": 50,
     "metadata": {},
     "output_type": "execute_result"
    }
   ],
   "source": [
    " _new_df['confirmed']"
   ]
  },
  {
   "cell_type": "code",
   "execution_count": 51,
   "metadata": {
    "ExecuteTime": {
     "end_time": "2021-10-12T19:25:11.940410Z",
     "start_time": "2021-10-12T19:25:11.933765Z"
    }
   },
   "outputs": [],
   "source": [
    "csv.loc[(csv.iso3 == 'USA'), 'confirmed'] = _new_df['confirmed']"
   ]
  },
  {
   "cell_type": "code",
   "execution_count": 52,
   "metadata": {
    "ExecuteTime": {
     "end_time": "2021-10-12T19:25:12.476145Z",
     "start_time": "2021-10-12T19:25:12.453693Z"
    }
   },
   "outputs": [
    {
     "data": {
      "text/html": [
       "<div>\n",
       "<style scoped>\n",
       "    .dataframe tbody tr th:only-of-type {\n",
       "        vertical-align: middle;\n",
       "    }\n",
       "\n",
       "    .dataframe tbody tr th {\n",
       "        vertical-align: top;\n",
       "    }\n",
       "\n",
       "    .dataframe thead th {\n",
       "        text-align: right;\n",
       "    }\n",
       "</style>\n",
       "<table border=\"1\" class=\"dataframe\">\n",
       "  <thead>\n",
       "    <tr style=\"text-align: right;\">\n",
       "      <th></th>\n",
       "      <th>iso3</th>\n",
       "      <th>date</th>\n",
       "      <th>senti_bert_std</th>\n",
       "      <th>senti_bert_std_trend</th>\n",
       "      <th>transit</th>\n",
       "      <th>drop_senti_bert</th>\n",
       "      <th>min_senti_bert_std</th>\n",
       "      <th>death</th>\n",
       "      <th>recovered</th>\n",
       "      <th>confirmed</th>\n",
       "    </tr>\n",
       "  </thead>\n",
       "  <tbody>\n",
       "    <tr>\n",
       "      <th>20217</th>\n",
       "      <td>USA</td>\n",
       "      <td>2020-01-01</td>\n",
       "      <td>4.324215</td>\n",
       "      <td>1.336594</td>\n",
       "      <td>NaN</td>\n",
       "      <td>2020-03-05</td>\n",
       "      <td>2020-03-14</td>\n",
       "      <td>NaN</td>\n",
       "      <td>NaN</td>\n",
       "      <td>1.0</td>\n",
       "    </tr>\n",
       "    <tr>\n",
       "      <th>20218</th>\n",
       "      <td>USA</td>\n",
       "      <td>2020-01-02</td>\n",
       "      <td>0.168652</td>\n",
       "      <td>0.903590</td>\n",
       "      <td>NaN</td>\n",
       "      <td>2020-03-05</td>\n",
       "      <td>2020-03-14</td>\n",
       "      <td>NaN</td>\n",
       "      <td>NaN</td>\n",
       "      <td>0.0</td>\n",
       "    </tr>\n",
       "    <tr>\n",
       "      <th>20219</th>\n",
       "      <td>USA</td>\n",
       "      <td>2020-01-03</td>\n",
       "      <td>-1.049207</td>\n",
       "      <td>0.490647</td>\n",
       "      <td>NaN</td>\n",
       "      <td>2020-03-05</td>\n",
       "      <td>2020-03-14</td>\n",
       "      <td>NaN</td>\n",
       "      <td>NaN</td>\n",
       "      <td>1.0</td>\n",
       "    </tr>\n",
       "    <tr>\n",
       "      <th>20220</th>\n",
       "      <td>USA</td>\n",
       "      <td>2020-01-04</td>\n",
       "      <td>0.065922</td>\n",
       "      <td>0.088097</td>\n",
       "      <td>NaN</td>\n",
       "      <td>2020-03-05</td>\n",
       "      <td>2020-03-14</td>\n",
       "      <td>NaN</td>\n",
       "      <td>NaN</td>\n",
       "      <td>0.0</td>\n",
       "    </tr>\n",
       "    <tr>\n",
       "      <th>20221</th>\n",
       "      <td>USA</td>\n",
       "      <td>2020-01-05</td>\n",
       "      <td>-1.335513</td>\n",
       "      <td>-0.302358</td>\n",
       "      <td>NaN</td>\n",
       "      <td>2020-03-05</td>\n",
       "      <td>2020-03-14</td>\n",
       "      <td>NaN</td>\n",
       "      <td>NaN</td>\n",
       "      <td>3.0</td>\n",
       "    </tr>\n",
       "    <tr>\n",
       "      <th>...</th>\n",
       "      <td>...</td>\n",
       "      <td>...</td>\n",
       "      <td>...</td>\n",
       "      <td>...</td>\n",
       "      <td>...</td>\n",
       "      <td>...</td>\n",
       "      <td>...</td>\n",
       "      <td>...</td>\n",
       "      <td>...</td>\n",
       "      <td>...</td>\n",
       "    </tr>\n",
       "    <tr>\n",
       "      <th>20364</th>\n",
       "      <td>USA</td>\n",
       "      <td>2020-05-27</td>\n",
       "      <td>-0.703816</td>\n",
       "      <td>-0.759332</td>\n",
       "      <td>-12.605714</td>\n",
       "      <td>2020-03-05</td>\n",
       "      <td>2020-03-14</td>\n",
       "      <td>NaN</td>\n",
       "      <td>NaN</td>\n",
       "      <td>27215.0</td>\n",
       "    </tr>\n",
       "    <tr>\n",
       "      <th>20365</th>\n",
       "      <td>USA</td>\n",
       "      <td>2020-05-28</td>\n",
       "      <td>-1.378175</td>\n",
       "      <td>-1.153662</td>\n",
       "      <td>-12.216936</td>\n",
       "      <td>2020-03-05</td>\n",
       "      <td>2020-03-14</td>\n",
       "      <td>NaN</td>\n",
       "      <td>NaN</td>\n",
       "      <td>28401.0</td>\n",
       "    </tr>\n",
       "    <tr>\n",
       "      <th>20366</th>\n",
       "      <td>USA</td>\n",
       "      <td>2020-05-29</td>\n",
       "      <td>-1.440015</td>\n",
       "      <td>-1.553201</td>\n",
       "      <td>-11.385047</td>\n",
       "      <td>2020-03-05</td>\n",
       "      <td>2020-03-14</td>\n",
       "      <td>NaN</td>\n",
       "      <td>NaN</td>\n",
       "      <td>31685.0</td>\n",
       "    </tr>\n",
       "    <tr>\n",
       "      <th>20367</th>\n",
       "      <td>USA</td>\n",
       "      <td>2020-05-30</td>\n",
       "      <td>-1.103954</td>\n",
       "      <td>-1.956014</td>\n",
       "      <td>-5.860681</td>\n",
       "      <td>2020-03-05</td>\n",
       "      <td>2020-03-14</td>\n",
       "      <td>NaN</td>\n",
       "      <td>NaN</td>\n",
       "      <td>32534.0</td>\n",
       "    </tr>\n",
       "    <tr>\n",
       "      <th>20368</th>\n",
       "      <td>USA</td>\n",
       "      <td>2020-05-31</td>\n",
       "      <td>-2.476721</td>\n",
       "      <td>-2.361282</td>\n",
       "      <td>-6.844253</td>\n",
       "      <td>2020-03-05</td>\n",
       "      <td>2020-03-14</td>\n",
       "      <td>NaN</td>\n",
       "      <td>NaN</td>\n",
       "      <td>26067.0</td>\n",
       "    </tr>\n",
       "  </tbody>\n",
       "</table>\n",
       "<p>152 rows × 10 columns</p>\n",
       "</div>"
      ],
      "text/plain": [
       "      iso3        date  senti_bert_std  senti_bert_std_trend    transit  \\\n",
       "20217  USA  2020-01-01        4.324215              1.336594        NaN   \n",
       "20218  USA  2020-01-02        0.168652              0.903590        NaN   \n",
       "20219  USA  2020-01-03       -1.049207              0.490647        NaN   \n",
       "20220  USA  2020-01-04        0.065922              0.088097        NaN   \n",
       "20221  USA  2020-01-05       -1.335513             -0.302358        NaN   \n",
       "...    ...         ...             ...                   ...        ...   \n",
       "20364  USA  2020-05-27       -0.703816             -0.759332 -12.605714   \n",
       "20365  USA  2020-05-28       -1.378175             -1.153662 -12.216936   \n",
       "20366  USA  2020-05-29       -1.440015             -1.553201 -11.385047   \n",
       "20367  USA  2020-05-30       -1.103954             -1.956014  -5.860681   \n",
       "20368  USA  2020-05-31       -2.476721             -2.361282  -6.844253   \n",
       "\n",
       "      drop_senti_bert min_senti_bert_std  death  recovered  confirmed  \n",
       "20217      2020-03-05         2020-03-14    NaN        NaN        1.0  \n",
       "20218      2020-03-05         2020-03-14    NaN        NaN        0.0  \n",
       "20219      2020-03-05         2020-03-14    NaN        NaN        1.0  \n",
       "20220      2020-03-05         2020-03-14    NaN        NaN        0.0  \n",
       "20221      2020-03-05         2020-03-14    NaN        NaN        3.0  \n",
       "...               ...                ...    ...        ...        ...  \n",
       "20364      2020-03-05         2020-03-14    NaN        NaN    27215.0  \n",
       "20365      2020-03-05         2020-03-14    NaN        NaN    28401.0  \n",
       "20366      2020-03-05         2020-03-14    NaN        NaN    31685.0  \n",
       "20367      2020-03-05         2020-03-14    NaN        NaN    32534.0  \n",
       "20368      2020-03-05         2020-03-14    NaN        NaN    26067.0  \n",
       "\n",
       "[152 rows x 10 columns]"
      ]
     },
     "execution_count": 52,
     "metadata": {},
     "output_type": "execute_result"
    }
   ],
   "source": [
    "csv.loc[(csv.iso3 == 'USA')]"
   ]
  },
  {
   "cell_type": "code",
   "execution_count": 7,
   "metadata": {
    "ExecuteTime": {
     "end_time": "2022-03-08T21:01:28.309478Z",
     "start_time": "2022-03-08T21:01:28.268115Z"
    }
   },
   "outputs": [
    {
     "data": {
      "text/html": [
       "<div>\n",
       "<style scoped>\n",
       "    .dataframe tbody tr th:only-of-type {\n",
       "        vertical-align: middle;\n",
       "    }\n",
       "\n",
       "    .dataframe tbody tr th {\n",
       "        vertical-align: top;\n",
       "    }\n",
       "\n",
       "    .dataframe thead th {\n",
       "        text-align: right;\n",
       "    }\n",
       "</style>\n",
       "<table border=\"1\" class=\"dataframe\">\n",
       "  <thead>\n",
       "    <tr style=\"text-align: right;\">\n",
       "      <th></th>\n",
       "      <th>senti_bert_trend</th>\n",
       "      <th>mean_transit</th>\n",
       "      <th>total_cases</th>\n",
       "      <th>iso3</th>\n",
       "    </tr>\n",
       "    <tr>\n",
       "      <th>date</th>\n",
       "      <th></th>\n",
       "      <th></th>\n",
       "      <th></th>\n",
       "      <th></th>\n",
       "    </tr>\n",
       "  </thead>\n",
       "  <tbody>\n",
       "    <tr>\n",
       "      <th>2020-01-01</th>\n",
       "      <td>1.930908</td>\n",
       "      <td>NaN</td>\n",
       "      <td>NaN</td>\n",
       "      <td>Global</td>\n",
       "    </tr>\n",
       "    <tr>\n",
       "      <th>2020-01-02</th>\n",
       "      <td>1.471912</td>\n",
       "      <td>NaN</td>\n",
       "      <td>NaN</td>\n",
       "      <td>Global</td>\n",
       "    </tr>\n",
       "    <tr>\n",
       "      <th>2020-01-03</th>\n",
       "      <td>1.007502</td>\n",
       "      <td>NaN</td>\n",
       "      <td>NaN</td>\n",
       "      <td>Global</td>\n",
       "    </tr>\n",
       "    <tr>\n",
       "      <th>2020-01-04</th>\n",
       "      <td>0.528769</td>\n",
       "      <td>NaN</td>\n",
       "      <td>NaN</td>\n",
       "      <td>Global</td>\n",
       "    </tr>\n",
       "    <tr>\n",
       "      <th>2020-01-05</th>\n",
       "      <td>0.063586</td>\n",
       "      <td>NaN</td>\n",
       "      <td>NaN</td>\n",
       "      <td>Global</td>\n",
       "    </tr>\n",
       "    <tr>\n",
       "      <th>...</th>\n",
       "      <td>...</td>\n",
       "      <td>...</td>\n",
       "      <td>...</td>\n",
       "      <td>...</td>\n",
       "    </tr>\n",
       "    <tr>\n",
       "      <th>2020-05-27</th>\n",
       "      <td>0.562548</td>\n",
       "      <td>-60.222678</td>\n",
       "      <td>93990.0</td>\n",
       "      <td>Global</td>\n",
       "    </tr>\n",
       "    <tr>\n",
       "      <th>2020-05-28</th>\n",
       "      <td>0.353155</td>\n",
       "      <td>-59.910409</td>\n",
       "      <td>107055.0</td>\n",
       "      <td>Global</td>\n",
       "    </tr>\n",
       "    <tr>\n",
       "      <th>2020-05-29</th>\n",
       "      <td>0.142029</td>\n",
       "      <td>-59.653929</td>\n",
       "      <td>106747.0</td>\n",
       "      <td>Global</td>\n",
       "    </tr>\n",
       "    <tr>\n",
       "      <th>2020-05-30</th>\n",
       "      <td>-0.046469</td>\n",
       "      <td>-56.697802</td>\n",
       "      <td>123460.0</td>\n",
       "      <td>Global</td>\n",
       "    </tr>\n",
       "    <tr>\n",
       "      <th>2020-05-31</th>\n",
       "      <td>-0.255217</td>\n",
       "      <td>-62.895624</td>\n",
       "      <td>98297.0</td>\n",
       "      <td>Global</td>\n",
       "    </tr>\n",
       "  </tbody>\n",
       "</table>\n",
       "<p>152 rows × 4 columns</p>\n",
       "</div>"
      ],
      "text/plain": [
       "            senti_bert_trend  mean_transit  total_cases    iso3\n",
       "date                                                           \n",
       "2020-01-01          1.930908           NaN          NaN  Global\n",
       "2020-01-02          1.471912           NaN          NaN  Global\n",
       "2020-01-03          1.007502           NaN          NaN  Global\n",
       "2020-01-04          0.528769           NaN          NaN  Global\n",
       "2020-01-05          0.063586           NaN          NaN  Global\n",
       "...                      ...           ...          ...     ...\n",
       "2020-05-27          0.562548    -60.222678      93990.0  Global\n",
       "2020-05-28          0.353155    -59.910409     107055.0  Global\n",
       "2020-05-29          0.142029    -59.653929     106747.0  Global\n",
       "2020-05-30         -0.046469    -56.697802     123460.0  Global\n",
       "2020-05-31         -0.255217    -62.895624      98297.0  Global\n",
       "\n",
       "[152 rows x 4 columns]"
      ]
     },
     "execution_count": 7,
     "metadata": {},
     "output_type": "execute_result"
    }
   ],
   "source": []
  },
  {
   "cell_type": "code",
   "execution_count": 54,
   "metadata": {
    "ExecuteTime": {
     "end_time": "2021-10-12T19:25:18.649822Z",
     "start_time": "2021-10-12T19:25:18.508917Z"
    }
   },
   "outputs": [],
   "source": [
    "for index, countries in csv.groupby('iso3'):\n",
    "    countries.sort_values('date', inplace=True)\n",
    "    dictionary[index] = {\n",
    "        'senti_bert_std': list(countries['senti_bert_std']),\n",
    "        'senti_bert_std_trend': list(countries['senti_bert_std_trend']),\n",
    "        'transit': list(countries['transit']),\n",
    "        'drop_senti_bert': list(countries['drop_senti_bert']),\n",
    "        'min_senti_bert_std': list(countries['min_senti_bert_std']),\n",
    "        'death': list(countries['death']),\n",
    "        'recovered': list(countries['recovered']),\n",
    "        'dates': list(countries['date']),\n",
    "        'confirmed': list(countries['confirmed'])\n",
    "    }"
   ]
  },
  {
   "cell_type": "code",
   "execution_count": 55,
   "metadata": {
    "ExecuteTime": {
     "end_time": "2021-10-12T19:25:19.221250Z",
     "start_time": "2021-10-12T19:25:19.055580Z"
    }
   },
   "outputs": [],
   "source": [
    "import json\n",
    "json_object = json.dumps(dictionary, indent = 4)   \n"
   ]
  },
  {
   "cell_type": "code",
   "execution_count": 56,
   "metadata": {
    "ExecuteTime": {
     "end_time": "2021-10-12T19:25:19.773830Z",
     "start_time": "2021-10-12T19:25:19.580150Z"
    }
   },
   "outputs": [],
   "source": [
    "with open(\"../data/GlobalSentiment_Data.json\", \"w\") as outfile:  \n",
    "    json.dump(dictionary, outfile) "
   ]
  },
  {
   "cell_type": "markdown",
   "metadata": {},
   "source": [
    "# Map data processing"
   ]
  },
  {
   "cell_type": "code",
   "execution_count": 1,
   "metadata": {
    "ExecuteTime": {
     "end_time": "2020-10-29T15:17:04.408191Z",
     "start_time": "2020-10-29T15:17:03.742609Z"
    }
   },
   "outputs": [],
   "source": [
    "import pandas as pd\n",
    "import numpy as np\n",
    "import geopandas as gpd"
   ]
  },
  {
   "cell_type": "markdown",
   "metadata": {},
   "source": [
    "We need to show a map with the following variables: shock_standard and HalfLife from the dataset provided."
   ]
  },
  {
   "cell_type": "markdown",
   "metadata": {},
   "source": [
    "First, we need to load the two files and merge them to have a geojson with countries' geometries and with the aditional information."
   ]
  },
  {
   "cell_type": "code",
   "execution_count": 2,
   "metadata": {
    "ExecuteTime": {
     "end_time": "2020-10-29T15:17:12.837080Z",
     "start_time": "2020-10-29T15:17:12.810001Z"
    }
   },
   "outputs": [
    {
     "data": {
      "text/html": [
       "<div>\n",
       "<style scoped>\n",
       "    .dataframe tbody tr th:only-of-type {\n",
       "        vertical-align: middle;\n",
       "    }\n",
       "\n",
       "    .dataframe tbody tr th {\n",
       "        vertical-align: top;\n",
       "    }\n",
       "\n",
       "    .dataframe thead th {\n",
       "        text-align: right;\n",
       "    }\n",
       "</style>\n",
       "<table border=\"1\" class=\"dataframe\">\n",
       "  <thead>\n",
       "    <tr style=\"text-align: right;\">\n",
       "      <th></th>\n",
       "      <th>iso3</th>\n",
       "      <th>country</th>\n",
       "      <th>continent</th>\n",
       "      <th>min_senti_bert</th>\n",
       "      <th>drop_senti_bert</th>\n",
       "      <th>averageN</th>\n",
       "      <th>HalfLife</th>\n",
       "      <th>shock</th>\n",
       "      <th>shock_standard</th>\n",
       "    </tr>\n",
       "  </thead>\n",
       "  <tbody>\n",
       "    <tr>\n",
       "      <th>0</th>\n",
       "      <td>AFG</td>\n",
       "      <td>Afghanistan</td>\n",
       "      <td>Asia</td>\n",
       "      <td>3/13/2020</td>\n",
       "      <td>3/10/2020</td>\n",
       "      <td>448.256579</td>\n",
       "      <td>8.410348</td>\n",
       "      <td>NaN</td>\n",
       "      <td>NaN</td>\n",
       "    </tr>\n",
       "    <tr>\n",
       "      <th>1</th>\n",
       "      <td>AGO</td>\n",
       "      <td>Angola</td>\n",
       "      <td>Africa</td>\n",
       "      <td>3/23/2020</td>\n",
       "      <td>3/11/2020</td>\n",
       "      <td>817.013158</td>\n",
       "      <td>12.320138</td>\n",
       "      <td>-2.156</td>\n",
       "      <td>-0.660154</td>\n",
       "    </tr>\n",
       "    <tr>\n",
       "      <th>2</th>\n",
       "      <td>ALB</td>\n",
       "      <td>Albania</td>\n",
       "      <td>Europe</td>\n",
       "      <td>3/25/2020</td>\n",
       "      <td>3/7/2020</td>\n",
       "      <td>288.138158</td>\n",
       "      <td>2.666999</td>\n",
       "      <td>NaN</td>\n",
       "      <td>NaN</td>\n",
       "    </tr>\n",
       "    <tr>\n",
       "      <th>3</th>\n",
       "      <td>ARE</td>\n",
       "      <td>United Arab Emirates</td>\n",
       "      <td>Asia</td>\n",
       "      <td>3/15/2020</td>\n",
       "      <td>3/7/2020</td>\n",
       "      <td>17878.046050</td>\n",
       "      <td>48.739074</td>\n",
       "      <td>-0.849</td>\n",
       "      <td>-0.686110</td>\n",
       "    </tr>\n",
       "    <tr>\n",
       "      <th>4</th>\n",
       "      <td>ARG</td>\n",
       "      <td>Argentina</td>\n",
       "      <td>South America</td>\n",
       "      <td>3/16/2020</td>\n",
       "      <td>3/10/2020</td>\n",
       "      <td>104898.302600</td>\n",
       "      <td>27.957062</td>\n",
       "      <td>-2.045</td>\n",
       "      <td>-0.879744</td>\n",
       "    </tr>\n",
       "  </tbody>\n",
       "</table>\n",
       "</div>"
      ],
      "text/plain": [
       "  iso3               country      continent min_senti_bert drop_senti_bert  \\\n",
       "0  AFG           Afghanistan           Asia      3/13/2020       3/10/2020   \n",
       "1  AGO                Angola         Africa      3/23/2020       3/11/2020   \n",
       "2  ALB               Albania         Europe      3/25/2020        3/7/2020   \n",
       "3  ARE  United Arab Emirates           Asia      3/15/2020        3/7/2020   \n",
       "4  ARG             Argentina  South America      3/16/2020       3/10/2020   \n",
       "\n",
       "        averageN   HalfLife  shock  shock_standard  \n",
       "0     448.256579   8.410348    NaN             NaN  \n",
       "1     817.013158  12.320138 -2.156       -0.660154  \n",
       "2     288.138158   2.666999    NaN             NaN  \n",
       "3   17878.046050  48.739074 -0.849       -0.686110  \n",
       "4  104898.302600  27.957062 -2.045       -0.879744  "
      ]
     },
     "execution_count": 2,
     "metadata": {},
     "output_type": "execute_result"
    }
   ],
   "source": [
    "provided_data = pd.read_csv(\"../data/Final_Output.csv\")\n",
    "provided_data.head()"
   ]
  },
  {
   "cell_type": "code",
   "execution_count": 4,
   "metadata": {
    "ExecuteTime": {
     "end_time": "2020-10-28T22:40:26.168703Z",
     "start_time": "2020-10-28T22:40:23.913774Z"
    }
   },
   "outputs": [
    {
     "data": {
      "text/html": [
       "<div>\n",
       "<style scoped>\n",
       "    .dataframe tbody tr th:only-of-type {\n",
       "        vertical-align: middle;\n",
       "    }\n",
       "\n",
       "    .dataframe tbody tr th {\n",
       "        vertical-align: top;\n",
       "    }\n",
       "\n",
       "    .dataframe thead th {\n",
       "        text-align: right;\n",
       "    }\n",
       "</style>\n",
       "<table border=\"1\" class=\"dataframe\">\n",
       "  <thead>\n",
       "    <tr style=\"text-align: right;\">\n",
       "      <th></th>\n",
       "      <th>ADMIN</th>\n",
       "      <th>ISO_A3</th>\n",
       "      <th>ISO_A2</th>\n",
       "      <th>geometry</th>\n",
       "    </tr>\n",
       "  </thead>\n",
       "  <tbody>\n",
       "    <tr>\n",
       "      <th>0</th>\n",
       "      <td>Aruba</td>\n",
       "      <td>ABW</td>\n",
       "      <td>AW</td>\n",
       "      <td>MULTIPOLYGON (((-69.99694 12.57758, -69.93639 ...</td>\n",
       "    </tr>\n",
       "    <tr>\n",
       "      <th>1</th>\n",
       "      <td>Afghanistan</td>\n",
       "      <td>AFG</td>\n",
       "      <td>AF</td>\n",
       "      <td>MULTIPOLYGON (((71.04980 38.40866, 71.05714 38...</td>\n",
       "    </tr>\n",
       "    <tr>\n",
       "      <th>2</th>\n",
       "      <td>Angola</td>\n",
       "      <td>AGO</td>\n",
       "      <td>AO</td>\n",
       "      <td>MULTIPOLYGON (((11.73752 -16.69258, 11.73851 -...</td>\n",
       "    </tr>\n",
       "    <tr>\n",
       "      <th>3</th>\n",
       "      <td>Anguilla</td>\n",
       "      <td>AIA</td>\n",
       "      <td>AI</td>\n",
       "      <td>MULTIPOLYGON (((-63.03767 18.21296, -63.09952 ...</td>\n",
       "    </tr>\n",
       "    <tr>\n",
       "      <th>4</th>\n",
       "      <td>Albania</td>\n",
       "      <td>ALB</td>\n",
       "      <td>AL</td>\n",
       "      <td>MULTIPOLYGON (((19.74777 42.57890, 19.74601 42...</td>\n",
       "    </tr>\n",
       "  </tbody>\n",
       "</table>\n",
       "</div>"
      ],
      "text/plain": [
       "         ADMIN ISO_A3 ISO_A2  \\\n",
       "0        Aruba    ABW     AW   \n",
       "1  Afghanistan    AFG     AF   \n",
       "2       Angola    AGO     AO   \n",
       "3     Anguilla    AIA     AI   \n",
       "4      Albania    ALB     AL   \n",
       "\n",
       "                                            geometry  \n",
       "0  MULTIPOLYGON (((-69.99694 12.57758, -69.93639 ...  \n",
       "1  MULTIPOLYGON (((71.04980 38.40866, 71.05714 38...  \n",
       "2  MULTIPOLYGON (((11.73752 -16.69258, 11.73851 -...  \n",
       "3  MULTIPOLYGON (((-63.03767 18.21296, -63.09952 ...  \n",
       "4  MULTIPOLYGON (((19.74777 42.57890, 19.74601 42...  "
      ]
     },
     "execution_count": 4,
     "metadata": {},
     "output_type": "execute_result"
    }
   ],
   "source": [
    "countries_shapes = gpd.read_file(\"../data/countries.geojson\")\n",
    "countries_shapes.head()"
   ]
  },
  {
   "cell_type": "markdown",
   "metadata": {},
   "source": [
    "Now, merge with ISO3 field."
   ]
  },
  {
   "cell_type": "code",
   "execution_count": 5,
   "metadata": {
    "ExecuteTime": {
     "end_time": "2020-10-28T22:40:26.728812Z",
     "start_time": "2020-10-28T22:40:26.723799Z"
    }
   },
   "outputs": [],
   "source": [
    "countries_shapes = countries_shapes[countries_shapes['ISO_A3'] != '-99']"
   ]
  },
  {
   "cell_type": "code",
   "execution_count": 6,
   "metadata": {
    "ExecuteTime": {
     "end_time": "2020-10-28T22:40:27.108439Z",
     "start_time": "2020-10-28T22:40:27.105419Z"
    }
   },
   "outputs": [],
   "source": [
    "provided_data.drop([45], inplace=True)"
   ]
  },
  {
   "cell_type": "code",
   "execution_count": 7,
   "metadata": {
    "ExecuteTime": {
     "end_time": "2020-10-28T22:40:27.530011Z",
     "start_time": "2020-10-28T22:40:27.520975Z"
    }
   },
   "outputs": [
    {
     "data": {
      "text/html": [
       "<div>\n",
       "<style scoped>\n",
       "    .dataframe tbody tr th:only-of-type {\n",
       "        vertical-align: middle;\n",
       "    }\n",
       "\n",
       "    .dataframe tbody tr th {\n",
       "        vertical-align: top;\n",
       "    }\n",
       "\n",
       "    .dataframe thead th {\n",
       "        text-align: right;\n",
       "    }\n",
       "</style>\n",
       "<table border=\"1\" class=\"dataframe\">\n",
       "  <thead>\n",
       "    <tr style=\"text-align: right;\">\n",
       "      <th></th>\n",
       "      <th>iso3</th>\n",
       "      <th>country</th>\n",
       "      <th>continent</th>\n",
       "      <th>min_senti_bert</th>\n",
       "      <th>drop_senti_bert</th>\n",
       "      <th>averageN</th>\n",
       "      <th>HalfLife</th>\n",
       "      <th>shock</th>\n",
       "      <th>shock_standard</th>\n",
       "    </tr>\n",
       "  </thead>\n",
       "  <tbody>\n",
       "    <tr>\n",
       "      <th>44</th>\n",
       "      <td>GEO</td>\n",
       "      <td>Georgia</td>\n",
       "      <td>Europe</td>\n",
       "      <td>3/13/2020</td>\n",
       "      <td>3/9/2020</td>\n",
       "      <td>333.611842</td>\n",
       "      <td>29.691186</td>\n",
       "      <td>NaN</td>\n",
       "      <td>NaN</td>\n",
       "    </tr>\n",
       "  </tbody>\n",
       "</table>\n",
       "</div>"
      ],
      "text/plain": [
       "   iso3  country continent min_senti_bert drop_senti_bert    averageN  \\\n",
       "44  GEO  Georgia    Europe      3/13/2020        3/9/2020  333.611842   \n",
       "\n",
       "     HalfLife  shock  shock_standard  \n",
       "44  29.691186    NaN             NaN  "
      ]
     },
     "execution_count": 7,
     "metadata": {},
     "output_type": "execute_result"
    }
   ],
   "source": [
    "provided_data[provided_data['iso3'] == 'GEO']"
   ]
  },
  {
   "cell_type": "code",
   "execution_count": 11,
   "metadata": {
    "ExecuteTime": {
     "end_time": "2020-10-28T22:40:46.606145Z",
     "start_time": "2020-10-28T22:40:46.567161Z"
    }
   },
   "outputs": [
    {
     "data": {
      "text/html": [
       "<div>\n",
       "<style scoped>\n",
       "    .dataframe tbody tr th:only-of-type {\n",
       "        vertical-align: middle;\n",
       "    }\n",
       "\n",
       "    .dataframe tbody tr th {\n",
       "        vertical-align: top;\n",
       "    }\n",
       "\n",
       "    .dataframe thead th {\n",
       "        text-align: right;\n",
       "    }\n",
       "</style>\n",
       "<table border=\"1\" class=\"dataframe\">\n",
       "  <thead>\n",
       "    <tr style=\"text-align: right;\">\n",
       "      <th></th>\n",
       "      <th>iso3</th>\n",
       "      <th>country</th>\n",
       "      <th>continent</th>\n",
       "      <th>min_senti_bert</th>\n",
       "      <th>drop_senti_bert</th>\n",
       "      <th>averageN</th>\n",
       "      <th>HalfLife</th>\n",
       "      <th>shock</th>\n",
       "      <th>shock_standard</th>\n",
       "      <th>ADMIN</th>\n",
       "      <th>ISO_A3</th>\n",
       "      <th>ISO_A2</th>\n",
       "      <th>geometry</th>\n",
       "    </tr>\n",
       "  </thead>\n",
       "  <tbody>\n",
       "    <tr>\n",
       "      <th>0</th>\n",
       "      <td>AFG</td>\n",
       "      <td>Afghanistan</td>\n",
       "      <td>Asia</td>\n",
       "      <td>3/13/2020</td>\n",
       "      <td>3/10/2020</td>\n",
       "      <td>448.256579</td>\n",
       "      <td>8.410348</td>\n",
       "      <td>NaN</td>\n",
       "      <td>NaN</td>\n",
       "      <td>Afghanistan</td>\n",
       "      <td>AFG</td>\n",
       "      <td>AF</td>\n",
       "      <td>MULTIPOLYGON (((71.04980 38.40866, 71.05714 38...</td>\n",
       "    </tr>\n",
       "    <tr>\n",
       "      <th>1</th>\n",
       "      <td>AGO</td>\n",
       "      <td>Angola</td>\n",
       "      <td>Africa</td>\n",
       "      <td>3/23/2020</td>\n",
       "      <td>3/11/2020</td>\n",
       "      <td>817.013158</td>\n",
       "      <td>12.320138</td>\n",
       "      <td>-2.156</td>\n",
       "      <td>-0.660154</td>\n",
       "      <td>Angola</td>\n",
       "      <td>AGO</td>\n",
       "      <td>AO</td>\n",
       "      <td>MULTIPOLYGON (((11.73752 -16.69258, 11.73851 -...</td>\n",
       "    </tr>\n",
       "    <tr>\n",
       "      <th>2</th>\n",
       "      <td>ALB</td>\n",
       "      <td>Albania</td>\n",
       "      <td>Europe</td>\n",
       "      <td>3/25/2020</td>\n",
       "      <td>3/7/2020</td>\n",
       "      <td>288.138158</td>\n",
       "      <td>2.666999</td>\n",
       "      <td>NaN</td>\n",
       "      <td>NaN</td>\n",
       "      <td>Albania</td>\n",
       "      <td>ALB</td>\n",
       "      <td>AL</td>\n",
       "      <td>MULTIPOLYGON (((19.74777 42.57890, 19.74601 42...</td>\n",
       "    </tr>\n",
       "    <tr>\n",
       "      <th>3</th>\n",
       "      <td>ARE</td>\n",
       "      <td>United Arab Emirates</td>\n",
       "      <td>Asia</td>\n",
       "      <td>3/15/2020</td>\n",
       "      <td>3/7/2020</td>\n",
       "      <td>17878.046050</td>\n",
       "      <td>48.739074</td>\n",
       "      <td>-0.849</td>\n",
       "      <td>-0.686110</td>\n",
       "      <td>United Arab Emirates</td>\n",
       "      <td>ARE</td>\n",
       "      <td>AE</td>\n",
       "      <td>MULTIPOLYGON (((53.86305 24.23469, 53.88860 24...</td>\n",
       "    </tr>\n",
       "    <tr>\n",
       "      <th>4</th>\n",
       "      <td>ARG</td>\n",
       "      <td>Argentina</td>\n",
       "      <td>South America</td>\n",
       "      <td>3/16/2020</td>\n",
       "      <td>3/10/2020</td>\n",
       "      <td>104898.302600</td>\n",
       "      <td>27.957062</td>\n",
       "      <td>-2.045</td>\n",
       "      <td>-0.879744</td>\n",
       "      <td>Argentina</td>\n",
       "      <td>ARG</td>\n",
       "      <td>AR</td>\n",
       "      <td>MULTIPOLYGON (((-68.65412 -54.88624, -68.65414...</td>\n",
       "    </tr>\n",
       "  </tbody>\n",
       "</table>\n",
       "</div>"
      ],
      "text/plain": [
       "  iso3               country      continent min_senti_bert drop_senti_bert  \\\n",
       "0  AFG           Afghanistan           Asia      3/13/2020       3/10/2020   \n",
       "1  AGO                Angola         Africa      3/23/2020       3/11/2020   \n",
       "2  ALB               Albania         Europe      3/25/2020        3/7/2020   \n",
       "3  ARE  United Arab Emirates           Asia      3/15/2020        3/7/2020   \n",
       "4  ARG             Argentina  South America      3/16/2020       3/10/2020   \n",
       "\n",
       "        averageN   HalfLife  shock  shock_standard                 ADMIN  \\\n",
       "0     448.256579   8.410348    NaN             NaN           Afghanistan   \n",
       "1     817.013158  12.320138 -2.156       -0.660154                Angola   \n",
       "2     288.138158   2.666999    NaN             NaN               Albania   \n",
       "3   17878.046050  48.739074 -0.849       -0.686110  United Arab Emirates   \n",
       "4  104898.302600  27.957062 -2.045       -0.879744             Argentina   \n",
       "\n",
       "  ISO_A3 ISO_A2                                           geometry  \n",
       "0    AFG     AF  MULTIPOLYGON (((71.04980 38.40866, 71.05714 38...  \n",
       "1    AGO     AO  MULTIPOLYGON (((11.73752 -16.69258, 11.73851 -...  \n",
       "2    ALB     AL  MULTIPOLYGON (((19.74777 42.57890, 19.74601 42...  \n",
       "3    ARE     AE  MULTIPOLYGON (((53.86305 24.23469, 53.88860 24...  \n",
       "4    ARG     AR  MULTIPOLYGON (((-68.65412 -54.88624, -68.65414...  "
      ]
     },
     "execution_count": 11,
     "metadata": {},
     "output_type": "execute_result"
    }
   ],
   "source": [
    "merged_data = provided_data.merge(countries_shapes, right_on=\"ISO_A3\", left_on=\"iso3\", validate=\"1:1\")\n",
    "merged_data.head()"
   ]
  },
  {
   "cell_type": "code",
   "execution_count": 12,
   "metadata": {
    "ExecuteTime": {
     "end_time": "2020-10-28T22:40:47.837715Z",
     "start_time": "2020-10-28T22:40:47.833669Z"
    }
   },
   "outputs": [
    {
     "data": {
      "text/plain": [
       "Index(['iso3', 'country', 'continent', 'min_senti_bert', 'drop_senti_bert',\n",
       "       'averageN', 'HalfLife', 'shock', 'shock_standard', 'ADMIN', 'ISO_A3',\n",
       "       'ISO_A2', 'geometry'],\n",
       "      dtype='object')"
      ]
     },
     "execution_count": 12,
     "metadata": {},
     "output_type": "execute_result"
    }
   ],
   "source": [
    "merged_data.keys()"
   ]
  },
  {
   "cell_type": "markdown",
   "metadata": {},
   "source": [
    "Filter in case we need full variables"
   ]
  },
  {
   "cell_type": "code",
   "execution_count": 13,
   "metadata": {
    "ExecuteTime": {
     "end_time": "2020-10-28T22:40:48.699127Z",
     "start_time": "2020-10-28T22:40:48.694947Z"
    }
   },
   "outputs": [],
   "source": [
    "merged_data = merged_data[['iso3', 'country', 'continent', 'min_senti_bert', 'drop_senti_bert',\n",
    "       'averageN', 'HalfLife', 'shock', 'shock_standard', 'geometry', 'ISO_A2']]"
   ]
  },
  {
   "cell_type": "markdown",
   "metadata": {},
   "source": [
    "Filter to get only the variables that we have discussed over slack"
   ]
  },
  {
   "cell_type": "code",
   "execution_count": 14,
   "metadata": {
    "ExecuteTime": {
     "end_time": "2020-10-28T22:40:49.518971Z",
     "start_time": "2020-10-28T22:40:49.515074Z"
    }
   },
   "outputs": [],
   "source": [
    "merged_data = merged_data[['iso3', 'country', 'continent', 'HalfLife', 'shock_standard', 'geometry', 'ISO_A2']]"
   ]
  },
  {
   "cell_type": "code",
   "execution_count": 15,
   "metadata": {
    "ExecuteTime": {
     "end_time": "2020-10-28T22:40:50.882633Z",
     "start_time": "2020-10-28T22:40:50.879562Z"
    }
   },
   "outputs": [],
   "source": [
    "merged_data = gpd.GeoDataFrame(merged_data)"
   ]
  },
  {
   "cell_type": "code",
   "execution_count": 16,
   "metadata": {
    "ExecuteTime": {
     "end_time": "2020-10-28T22:40:53.465667Z",
     "start_time": "2020-10-28T22:40:51.225157Z"
    }
   },
   "outputs": [],
   "source": [
    "merged_data.to_file(\"../data/countries_with_data.geojson\", driver=\"GeoJSON\")"
   ]
  },
  {
   "cell_type": "code",
   "execution_count": 17,
   "metadata": {
    "ExecuteTime": {
     "end_time": "2020-10-28T22:40:53.474126Z",
     "start_time": "2020-10-28T22:40:53.467596Z"
    }
   },
   "outputs": [
    {
     "data": {
      "text/plain": [
       "count    117.000000\n",
       "mean      -0.848760\n",
       "std        0.584025\n",
       "min       -3.307960\n",
       "10%       -1.610268\n",
       "20%       -1.212389\n",
       "30%       -1.000052\n",
       "40%       -0.868296\n",
       "50%       -0.723554\n",
       "60%       -0.621621\n",
       "70%       -0.485392\n",
       "80%       -0.388376\n",
       "90%       -0.230394\n",
       "100%      -0.007038\n",
       "max       -0.007038\n",
       "Name: shock_standard, dtype: float64"
      ]
     },
     "execution_count": 17,
     "metadata": {},
     "output_type": "execute_result"
    }
   ],
   "source": [
    "merged_data['shock_standard'].describe(percentiles = [0.1,0.2,0.3,0.4,0.5,0.6,0.7,0.8,0.9,1])"
   ]
  },
  {
   "cell_type": "code",
   "execution_count": null,
   "metadata": {},
   "outputs": [],
   "source": []
  }
 ],
 "metadata": {
  "kernelspec": {
   "display_name": "Python 3",
   "language": "python",
   "name": "python3"
  },
  "language_info": {
   "codemirror_mode": {
    "name": "ipython",
    "version": 3
   },
   "file_extension": ".py",
   "mimetype": "text/x-python",
   "name": "python",
   "nbconvert_exporter": "python",
   "pygments_lexer": "ipython3",
   "version": "3.7.5"
  },
  "toc": {
   "base_numbering": 1,
   "nav_menu": {},
   "number_sections": true,
   "sideBar": true,
   "skip_h1_title": false,
   "title_cell": "Table of Contents",
   "title_sidebar": "Contents",
   "toc_cell": false,
   "toc_position": {},
   "toc_section_display": true,
   "toc_window_display": false
  },
  "varInspector": {
   "cols": {
    "lenName": 16,
    "lenType": 16,
    "lenVar": 40
   },
   "kernels_config": {
    "python": {
     "delete_cmd_postfix": "",
     "delete_cmd_prefix": "del ",
     "library": "var_list.py",
     "varRefreshCmd": "print(var_dic_list())"
    },
    "r": {
     "delete_cmd_postfix": ") ",
     "delete_cmd_prefix": "rm(",
     "library": "var_list.r",
     "varRefreshCmd": "cat(var_dic_list()) "
    }
   },
   "types_to_exclude": [
    "module",
    "function",
    "builtin_function_or_method",
    "instance",
    "_Feature"
   ],
   "window_display": false
  }
 },
 "nbformat": 4,
 "nbformat_minor": 2
}
